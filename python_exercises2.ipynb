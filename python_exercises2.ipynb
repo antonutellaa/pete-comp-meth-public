{
  "nbformat": 4,
  "nbformat_minor": 0,
  "metadata": {
    "colab": {
      "provenance": [],
      "include_colab_link": true
    },
    "kernelspec": {
      "name": "python3",
      "display_name": "Python 3"
    }
  },
  "cells": [
    {
      "cell_type": "markdown",
      "metadata": {
        "id": "view-in-github",
        "colab_type": "text"
      },
      "source": [
        "<a href=\"https://colab.research.google.com/github/antonutellaa/pete-comp-meth-public/blob/main/python_exercises2.ipynb\" target=\"_parent\"><img src=\"https://colab.research.google.com/assets/colab-badge.svg\" alt=\"Open In Colab\"/></a>"
      ]
    },
    {
      "cell_type": "markdown",
      "metadata": {
        "id": "1LPk_SufOcFH"
      },
      "source": [
        "Lets continue with our data from the previous exercise:"
      ]
    },
    {
      "cell_type": "code",
      "metadata": {
        "id": "tlXvB6EMOYx3"
      },
      "source": [
        "patients = {\n",
        "    521236: {\n",
        "        'last_name': 'Dawson',\n",
        "        'first_name': 'Louise',\n",
        "        'temperatures': [37.7, 37.2, 37.5, 37.3],\n",
        "        'height': 1.49\n",
        "    },\n",
        "    627256: {\n",
        "        'last_name': 'Valencia',\n",
        "        'first_name': 'Thelma',\n",
        "        'temperatures': [36.5, 36.9],\n",
        "        'height': 1.74\n",
        "    },\n",
        "    876516: {\n",
        "        'last_name': 'Ventura',\n",
        "        'first_name': 'William',\n",
        "        'temperatures': [36.6, 36.8, 37.8, 37.2],\n",
        "        'height': 1.70\n",
        "    },\n",
        "    161451: {\n",
        "        'last_name': 'Shackelford',\n",
        "        'first_name': 'Steven',\n",
        "        'temperatures': [37.9, 38.4, 38.4],\n",
        "        'height': 1.67\n",
        "    },\n",
        "    623724: {\n",
        "        'last_name': 'Rzeczycki',\n",
        "        'first_name': 'Kristi',\n",
        "        'temperatures': [37.9, 37.8],\n",
        "        'height': 1.65\n",
        "    }\n",
        "}"
      ],
      "execution_count": null,
      "outputs": []
    },
    {
      "cell_type": "markdown",
      "metadata": {
        "id": "W9xVPGKsOmzJ"
      },
      "source": [
        "Write a function `summarize_patient` that takes a patient id and displays their name and the number of temperature measurements. You may assume that the patient id is in the above dictionary.\n",
        "\n",
        "For example, calling\n",
        "```\n",
        "summarize_patient(623724)\n",
        "```\n",
        "\n",
        "should display:\n",
        "```\n",
        "Kristi Rzeczycki has 2 recorded temperatures.\n",
        "```"
      ]
    },
    {
      "cell_type": "code",
      "metadata": {
        "id": "AVgesQ7LPPib"
      },
      "source": [],
      "execution_count": null,
      "outputs": []
    },
    {
      "cell_type": "markdown",
      "metadata": {
        "id": "eFoF6i7SPYUf"
      },
      "source": [
        "Test your function."
      ]
    },
    {
      "cell_type": "code",
      "metadata": {
        "id": "zrOL4F8yPvhw"
      },
      "source": [],
      "execution_count": null,
      "outputs": []
    },
    {
      "cell_type": "markdown",
      "metadata": {
        "id": "oNVBEhMBPyIG"
      },
      "source": [
        "Recall from the lecture that we can convert temperatures from degrees Celsius to degrees Fahrenheit using the function:"
      ]
    },
    {
      "cell_type": "code",
      "metadata": {
        "id": "LWKu6qNzQKJk"
      },
      "source": [
        "def degc_to_degf(degc):\n",
        "  return 32 + 9 * degc / 5"
      ],
      "execution_count": null,
      "outputs": []
    },
    {
      "cell_type": "markdown",
      "metadata": {
        "id": "b-HfTRTBQiDp"
      },
      "source": [
        "Define a new function, `summarize_patient2` that takes a patient id and prints their name and highest temperature converted to degrees Fahrenheit. e.g. calling\n",
        "```\n",
        "summarize_patient2(623724)\n",
        "```\n",
        "should display\n",
        "```\n",
        "Kristi Rzeczycki's highest temperature was 100.22 F.\n",
        "```"
      ]
    },
    {
      "cell_type": "code",
      "metadata": {
        "id": "WVgeT4ACREgV"
      },
      "source": [],
      "execution_count": null,
      "outputs": []
    },
    {
      "cell_type": "markdown",
      "metadata": {
        "id": "0nljFnJnRFOe"
      },
      "source": [
        "Test your function. How can you tell if it is correct?"
      ]
    },
    {
      "cell_type": "code",
      "metadata": {
        "id": "Swc0PxwtRGZl"
      },
      "source": [],
      "execution_count": null,
      "outputs": []
    }
  ]
}