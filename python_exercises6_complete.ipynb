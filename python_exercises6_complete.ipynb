{
  "nbformat": 4,
  "nbformat_minor": 0,
  "metadata": {
    "colab": {
      "provenance": [],
      "include_colab_link": true
    },
    "kernelspec": {
      "name": "python3",
      "display_name": "Python 3"
    }
  },
  "cells": [
    {
      "cell_type": "markdown",
      "metadata": {
        "id": "view-in-github",
        "colab_type": "text"
      },
      "source": [
        "<a href=\"https://colab.research.google.com/github/antonutellaa/pete-comp-meth-public/blob/main/python_exercises6_complete.ipynb\" target=\"_parent\"><img src=\"https://colab.research.google.com/assets/colab-badge.svg\" alt=\"Open In Colab\"/></a>"
      ]
    },
    {
      "cell_type": "markdown",
      "metadata": {
        "id": "2iiNvtpD1n72"
      },
      "source": [
        "Let's begin by loading the `plotnine` module; call it `p9` for convenience."
      ]
    },
    {
      "cell_type": "code",
      "metadata": {
        "id": "qiisrphy1tHt"
      },
      "source": [
        "import plotnine as p9"
      ],
      "execution_count": 5,
      "outputs": []
    },
    {
      "cell_type": "markdown",
      "metadata": {
        "id": "ASArtf6r2Scs"
      },
      "source": [
        "We'll also need `pandas` (call it `pd`):"
      ]
    },
    {
      "cell_type": "code",
      "metadata": {
        "id": "ifk6Dj6y2XCA"
      },
      "source": [
        "import pandas as pd"
      ],
      "execution_count": 7,
      "outputs": []
    },
    {
      "cell_type": "markdown",
      "metadata": {
        "id": "zkwpr8wLzl5h"
      },
      "source": [
        "We'll want to connect to the shared Google Drive to get access to our data. Remember, this is always done the same way:"
      ]
    },
    {
      "cell_type": "code",
      "metadata": {
        "id": "hVlGlyQPzrwi",
        "colab": {
          "base_uri": "https://localhost:8080/"
        },
        "outputId": "c7707043-8ec4-4ba1-cc4d-7b58d9a1f4ef"
      },
      "source": [
        "# mount google drive\n",
        "from google.colab import drive\n",
        "drive.mount('/content/gdrive')"
      ],
      "execution_count": 8,
      "outputs": [
        {
          "output_type": "stream",
          "name": "stdout",
          "text": [
            "Mounted at /content/gdrive\n"
          ]
        }
      ]
    },
    {
      "cell_type": "markdown",
      "metadata": {
        "id": "U53QQLlx18-d"
      },
      "source": [
        "Now load the LABEVENTS.csv and PATIENTS.csv data from MIMIC:"
      ]
    },
    {
      "cell_type": "code",
      "metadata": {
        "id": "J__DChom1-kB",
        "colab": {
          "base_uri": "https://localhost:8080/",
          "height": 304
        },
        "outputId": "a12b8370-37db-4be2-c625-64697e11d929"
      },
      "source": [
        "labevents = pd.read_csv(\"/content/gdrive/My Drive/[YCMI_CBDS Summer Course] Data/mimic_iii/LABEVENTS.csv\")\n",
        "patients = pd.read_csv(\"/content/gdrive/My Drive/[YCMI_CBDS Summer Course] Data/mimic_iii/PATIENTS.csv\")"
      ],
      "execution_count": 9,
      "outputs": [
        {
          "output_type": "error",
          "ename": "FileNotFoundError",
          "evalue": "[Errno 2] No such file or directory: '/content/gdrive/My Drive/[YCMI_CBDS Summer Course] Data/mimic_iii/LABEVENTS.csv'",
          "traceback": [
            "\u001b[0;31m---------------------------------------------------------------------------\u001b[0m",
            "\u001b[0;31mFileNotFoundError\u001b[0m                         Traceback (most recent call last)",
            "\u001b[0;32m/tmp/ipython-input-559321799.py\u001b[0m in \u001b[0;36m<cell line: 0>\u001b[0;34m()\u001b[0m\n\u001b[0;32m----> 1\u001b[0;31m \u001b[0mlabevents\u001b[0m \u001b[0;34m=\u001b[0m \u001b[0mpd\u001b[0m\u001b[0;34m.\u001b[0m\u001b[0mread_csv\u001b[0m\u001b[0;34m(\u001b[0m\u001b[0;34m\"/content/gdrive/My Drive/[YCMI_CBDS Summer Course] Data/mimic_iii/LABEVENTS.csv\"\u001b[0m\u001b[0;34m)\u001b[0m\u001b[0;34m\u001b[0m\u001b[0;34m\u001b[0m\u001b[0m\n\u001b[0m\u001b[1;32m      2\u001b[0m \u001b[0mpatients\u001b[0m \u001b[0;34m=\u001b[0m \u001b[0mpd\u001b[0m\u001b[0;34m.\u001b[0m\u001b[0mread_csv\u001b[0m\u001b[0;34m(\u001b[0m\u001b[0;34m\"/content/gdrive/My Drive/[YCMI_CBDS Summer Course] Data/mimic_iii/PATIENTS.csv\"\u001b[0m\u001b[0;34m)\u001b[0m\u001b[0;34m\u001b[0m\u001b[0;34m\u001b[0m\u001b[0m\n",
            "\u001b[0;32m/usr/local/lib/python3.12/dist-packages/pandas/io/parsers/readers.py\u001b[0m in \u001b[0;36mread_csv\u001b[0;34m(filepath_or_buffer, sep, delimiter, header, names, index_col, usecols, dtype, engine, converters, true_values, false_values, skipinitialspace, skiprows, skipfooter, nrows, na_values, keep_default_na, na_filter, verbose, skip_blank_lines, parse_dates, infer_datetime_format, keep_date_col, date_parser, date_format, dayfirst, cache_dates, iterator, chunksize, compression, thousands, decimal, lineterminator, quotechar, quoting, doublequote, escapechar, comment, encoding, encoding_errors, dialect, on_bad_lines, delim_whitespace, low_memory, memory_map, float_precision, storage_options, dtype_backend)\u001b[0m\n\u001b[1;32m   1024\u001b[0m     \u001b[0mkwds\u001b[0m\u001b[0;34m.\u001b[0m\u001b[0mupdate\u001b[0m\u001b[0;34m(\u001b[0m\u001b[0mkwds_defaults\u001b[0m\u001b[0;34m)\u001b[0m\u001b[0;34m\u001b[0m\u001b[0;34m\u001b[0m\u001b[0m\n\u001b[1;32m   1025\u001b[0m \u001b[0;34m\u001b[0m\u001b[0m\n\u001b[0;32m-> 1026\u001b[0;31m     \u001b[0;32mreturn\u001b[0m \u001b[0m_read\u001b[0m\u001b[0;34m(\u001b[0m\u001b[0mfilepath_or_buffer\u001b[0m\u001b[0;34m,\u001b[0m \u001b[0mkwds\u001b[0m\u001b[0;34m)\u001b[0m\u001b[0;34m\u001b[0m\u001b[0;34m\u001b[0m\u001b[0m\n\u001b[0m\u001b[1;32m   1027\u001b[0m \u001b[0;34m\u001b[0m\u001b[0m\n\u001b[1;32m   1028\u001b[0m \u001b[0;34m\u001b[0m\u001b[0m\n",
            "\u001b[0;32m/usr/local/lib/python3.12/dist-packages/pandas/io/parsers/readers.py\u001b[0m in \u001b[0;36m_read\u001b[0;34m(filepath_or_buffer, kwds)\u001b[0m\n\u001b[1;32m    618\u001b[0m \u001b[0;34m\u001b[0m\u001b[0m\n\u001b[1;32m    619\u001b[0m     \u001b[0;31m# Create the parser.\u001b[0m\u001b[0;34m\u001b[0m\u001b[0;34m\u001b[0m\u001b[0m\n\u001b[0;32m--> 620\u001b[0;31m     \u001b[0mparser\u001b[0m \u001b[0;34m=\u001b[0m \u001b[0mTextFileReader\u001b[0m\u001b[0;34m(\u001b[0m\u001b[0mfilepath_or_buffer\u001b[0m\u001b[0;34m,\u001b[0m \u001b[0;34m**\u001b[0m\u001b[0mkwds\u001b[0m\u001b[0;34m)\u001b[0m\u001b[0;34m\u001b[0m\u001b[0;34m\u001b[0m\u001b[0m\n\u001b[0m\u001b[1;32m    621\u001b[0m \u001b[0;34m\u001b[0m\u001b[0m\n\u001b[1;32m    622\u001b[0m     \u001b[0;32mif\u001b[0m \u001b[0mchunksize\u001b[0m \u001b[0;32mor\u001b[0m \u001b[0miterator\u001b[0m\u001b[0;34m:\u001b[0m\u001b[0;34m\u001b[0m\u001b[0;34m\u001b[0m\u001b[0m\n",
            "\u001b[0;32m/usr/local/lib/python3.12/dist-packages/pandas/io/parsers/readers.py\u001b[0m in \u001b[0;36m__init__\u001b[0;34m(self, f, engine, **kwds)\u001b[0m\n\u001b[1;32m   1618\u001b[0m \u001b[0;34m\u001b[0m\u001b[0m\n\u001b[1;32m   1619\u001b[0m         \u001b[0mself\u001b[0m\u001b[0;34m.\u001b[0m\u001b[0mhandles\u001b[0m\u001b[0;34m:\u001b[0m \u001b[0mIOHandles\u001b[0m \u001b[0;34m|\u001b[0m \u001b[0;32mNone\u001b[0m \u001b[0;34m=\u001b[0m \u001b[0;32mNone\u001b[0m\u001b[0;34m\u001b[0m\u001b[0;34m\u001b[0m\u001b[0m\n\u001b[0;32m-> 1620\u001b[0;31m         \u001b[0mself\u001b[0m\u001b[0;34m.\u001b[0m\u001b[0m_engine\u001b[0m \u001b[0;34m=\u001b[0m \u001b[0mself\u001b[0m\u001b[0;34m.\u001b[0m\u001b[0m_make_engine\u001b[0m\u001b[0;34m(\u001b[0m\u001b[0mf\u001b[0m\u001b[0;34m,\u001b[0m \u001b[0mself\u001b[0m\u001b[0;34m.\u001b[0m\u001b[0mengine\u001b[0m\u001b[0;34m)\u001b[0m\u001b[0;34m\u001b[0m\u001b[0;34m\u001b[0m\u001b[0m\n\u001b[0m\u001b[1;32m   1621\u001b[0m \u001b[0;34m\u001b[0m\u001b[0m\n\u001b[1;32m   1622\u001b[0m     \u001b[0;32mdef\u001b[0m \u001b[0mclose\u001b[0m\u001b[0;34m(\u001b[0m\u001b[0mself\u001b[0m\u001b[0;34m)\u001b[0m \u001b[0;34m->\u001b[0m \u001b[0;32mNone\u001b[0m\u001b[0;34m:\u001b[0m\u001b[0;34m\u001b[0m\u001b[0;34m\u001b[0m\u001b[0m\n",
            "\u001b[0;32m/usr/local/lib/python3.12/dist-packages/pandas/io/parsers/readers.py\u001b[0m in \u001b[0;36m_make_engine\u001b[0;34m(self, f, engine)\u001b[0m\n\u001b[1;32m   1878\u001b[0m                 \u001b[0;32mif\u001b[0m \u001b[0;34m\"b\"\u001b[0m \u001b[0;32mnot\u001b[0m \u001b[0;32min\u001b[0m \u001b[0mmode\u001b[0m\u001b[0;34m:\u001b[0m\u001b[0;34m\u001b[0m\u001b[0;34m\u001b[0m\u001b[0m\n\u001b[1;32m   1879\u001b[0m                     \u001b[0mmode\u001b[0m \u001b[0;34m+=\u001b[0m \u001b[0;34m\"b\"\u001b[0m\u001b[0;34m\u001b[0m\u001b[0;34m\u001b[0m\u001b[0m\n\u001b[0;32m-> 1880\u001b[0;31m             self.handles = get_handle(\n\u001b[0m\u001b[1;32m   1881\u001b[0m                 \u001b[0mf\u001b[0m\u001b[0;34m,\u001b[0m\u001b[0;34m\u001b[0m\u001b[0;34m\u001b[0m\u001b[0m\n\u001b[1;32m   1882\u001b[0m                 \u001b[0mmode\u001b[0m\u001b[0;34m,\u001b[0m\u001b[0;34m\u001b[0m\u001b[0;34m\u001b[0m\u001b[0m\n",
            "\u001b[0;32m/usr/local/lib/python3.12/dist-packages/pandas/io/common.py\u001b[0m in \u001b[0;36mget_handle\u001b[0;34m(path_or_buf, mode, encoding, compression, memory_map, is_text, errors, storage_options)\u001b[0m\n\u001b[1;32m    871\u001b[0m         \u001b[0;32mif\u001b[0m \u001b[0mioargs\u001b[0m\u001b[0;34m.\u001b[0m\u001b[0mencoding\u001b[0m \u001b[0;32mand\u001b[0m \u001b[0;34m\"b\"\u001b[0m \u001b[0;32mnot\u001b[0m \u001b[0;32min\u001b[0m \u001b[0mioargs\u001b[0m\u001b[0;34m.\u001b[0m\u001b[0mmode\u001b[0m\u001b[0;34m:\u001b[0m\u001b[0;34m\u001b[0m\u001b[0;34m\u001b[0m\u001b[0m\n\u001b[1;32m    872\u001b[0m             \u001b[0;31m# Encoding\u001b[0m\u001b[0;34m\u001b[0m\u001b[0;34m\u001b[0m\u001b[0m\n\u001b[0;32m--> 873\u001b[0;31m             handle = open(\n\u001b[0m\u001b[1;32m    874\u001b[0m                 \u001b[0mhandle\u001b[0m\u001b[0;34m,\u001b[0m\u001b[0;34m\u001b[0m\u001b[0;34m\u001b[0m\u001b[0m\n\u001b[1;32m    875\u001b[0m                 \u001b[0mioargs\u001b[0m\u001b[0;34m.\u001b[0m\u001b[0mmode\u001b[0m\u001b[0;34m,\u001b[0m\u001b[0;34m\u001b[0m\u001b[0;34m\u001b[0m\u001b[0m\n",
            "\u001b[0;31mFileNotFoundError\u001b[0m: [Errno 2] No such file or directory: '/content/gdrive/My Drive/[YCMI_CBDS Summer Course] Data/mimic_iii/LABEVENTS.csv'"
          ]
        }
      ]
    },
    {
      "cell_type": "markdown",
      "metadata": {
        "id": "H8fBZKS19paR"
      },
      "source": [
        "Take a look at both datasets to get a sense of how it is structured:"
      ]
    },
    {
      "cell_type": "code",
      "metadata": {
        "id": "yI-s7dv89vWN"
      },
      "source": [
        "labevents"
      ],
      "execution_count": null,
      "outputs": []
    },
    {
      "cell_type": "code",
      "metadata": {
        "id": "x8KoCWhlGmcv"
      },
      "source": [
        "patients"
      ],
      "execution_count": null,
      "outputs": []
    },
    {
      "cell_type": "markdown",
      "metadata": {
        "id": "XsZ8xXbi9jnr"
      },
      "source": [
        "In the `labevents` dataframe, the `charttime` column represents date and time. Use `pd.to_datetime` to tell the computer this:"
      ]
    },
    {
      "cell_type": "code",
      "metadata": {
        "id": "2LsQhj2i961O"
      },
      "source": [
        "labevents['charttime'] = pd.to_datetime(labevents['charttime'])"
      ],
      "execution_count": null,
      "outputs": []
    },
    {
      "cell_type": "markdown",
      "metadata": {
        "id": "DO0ZjP-mJQ3Q"
      },
      "source": [
        "### Bar chart\n",
        "\n",
        "Let's start simply: Make a bar chart showing the `gender` data from `patients`. You should end up with two bars: one for `M` one for `F`. Which gender is more common in our dataset?"
      ]
    },
    {
      "cell_type": "code",
      "metadata": {
        "id": "h8_VqVc_Gy_x"
      },
      "source": [
        "p9.ggplot(patients) + p9.geom_bar(p9.aes(x=\"gender\"))"
      ],
      "execution_count": null,
      "outputs": []
    },
    {
      "cell_type": "markdown",
      "metadata": {
        "id": "8xR9F9QOC7vV"
      },
      "source": [
        "### Time series"
      ]
    },
    {
      "cell_type": "markdown",
      "metadata": {
        "id": "pM1eBvrf4iGU"
      },
      "source": [
        "Select blood potassium concentration in mEq/L (`itemid == 50971`) for patient `40310`.\n"
      ]
    },
    {
      "cell_type": "code",
      "metadata": {
        "id": "ExbTz4Xy3t04"
      },
      "source": [
        "potassium = labevents[(labevents['itemid']==50971) & (labevents['subject_id']==40310)]"
      ],
      "execution_count": null,
      "outputs": []
    },
    {
      "cell_type": "markdown",
      "metadata": {
        "id": "gKgVzxBzHcPj"
      },
      "source": [
        "Make a line graph of the measurements (`valuenum`) vs date (`charttime`). Note that ggplot automatically handles timestamps; we do not need to do anything special for dates."
      ]
    },
    {
      "cell_type": "code",
      "metadata": {
        "id": "civ5YdIp3pts"
      },
      "source": [
        "p9.ggplot(potassium) + p9.geom_line(p9.aes(x=\"charttime\",y=\"valuenum\",group=\"subject_id\"))"
      ],
      "execution_count": null,
      "outputs": []
    },
    {
      "cell_type": "markdown",
      "metadata": {
        "id": "DVp7SZx0HrRJ"
      },
      "source": [
        "Did you give your graph meaningful x- and y-axis labels? If not, redo it but with labels \"Date\" for the x-axis and \"[K] (mEq/L)\" for the y-axis (you'll want to use `p9.labs`)."
      ]
    },
    {
      "cell_type": "code",
      "metadata": {
        "id": "F-ihnhBmH_6Q"
      },
      "source": [
        "p9.ggplot(potassium) + p9.geom_line(p9.aes(x=\"charttime\",y=\"valuenum\",group=\"subject_id\")) + p9.labs(x=\"Date\",y=\"[K] (mEq/L)\")"
      ],
      "execution_count": null,
      "outputs": []
    },
    {
      "cell_type": "markdown",
      "metadata": {
        "id": "AIUxz10QBd_K"
      },
      "source": [
        "How do you interpret the graph between mid-November and late December? Are there any time periods that stand out as not being like the rest?"
      ]
    },
    {
      "cell_type": "markdown",
      "metadata": {
        "id": "Ykr3WXEcTm5Q"
      },
      "source": [
        "**PUT YOUR ANSWER HERE**"
      ]
    },
    {
      "cell_type": "markdown",
      "metadata": {
        "id": "_llJvfQ4T2W8"
      },
      "source": [
        "### Box plot\n",
        "\n",
        "So far we've seen how one particular person's blood potassium concentration changed over time.\n",
        "\n",
        "Let's instead try to get a sense of the variability of blood sodium concentrations (`labevents['itemid'] == 50983`) within individuals but also how individuals compare. To do this, we'll use a boxplot (`geom_boxplot`). Specifically, make a boxplot that `group`s by `subject_id`, plots the concentrations (`valuenum`) along the y-axis, and positions the box across the x-axis beased on `subject_id`. To keep the graph readable, only include data for `subject_id < 20000`. Store the selected data in the variable `sodium` as we'll need it later."
      ]
    },
    {
      "cell_type": "code",
      "metadata": {
        "id": "0w2Ktin8WLZF"
      },
      "source": [
        "sodium = labevents[(labevents['itemid'] == 50983) & (labevents['subject_id'] < 20000)]"
      ],
      "execution_count": null,
      "outputs": []
    },
    {
      "cell_type": "code",
      "metadata": {
        "id": "yiLlPO67yRfK"
      },
      "source": [
        "p9.ggplot(sodium, p9.aes(x=\"subject_id\", y=\"valuenum\", group='subject_id')) + p9.geom_boxplot() + p9.theme(axis_text_x=p9.element_text(angle=90))"
      ],
      "execution_count": null,
      "outputs": []
    },
    {
      "cell_type": "markdown",
      "metadata": {
        "id": "C2t_Wwdaz7Sx"
      },
      "source": [
        "Is our visualization telling the right story?\n",
        "\n",
        "Does the x-axis location mean anything? The `subject_id` only exists to distinguish unique patients; its numeric value has no meaning.\n",
        "\n",
        "To get a better picture: make a new variable `sodium2` based on `sodium` (set it equal to `pd.DataFrame(sodium)`), then set the `subject_id` column to represent categorical values (`astype('category')`). Now regraph.\n",
        "\n",
        "How does your graph compare to the previous one?"
      ]
    },
    {
      "cell_type": "code",
      "metadata": {
        "id": "Y4Pxflsu1jA3"
      },
      "source": [
        "sodium2 = pd.DataFrame(sodium)\n",
        "sodium2['subject_id'] = sodium2['subject_id'].astype('category')\n",
        "p9.ggplot(sodium2, p9.aes(x=\"subject_id\", y=\"valuenum\")) + p9.geom_boxplot() + p9.theme(axis_text_x=p9.element_text(angle=90))"
      ],
      "execution_count": null,
      "outputs": []
    },
    {
      "cell_type": "markdown",
      "metadata": {
        "id": "QdiDuwZoDUm1"
      },
      "source": [
        "Did you see any patients whose blood sodium levels seem unusual relative to the rest? (e.g. unusually high, unusually low, or unusually variable)."
      ]
    },
    {
      "cell_type": "markdown",
      "metadata": {
        "id": "lOL70Ou_Dzo4"
      },
      "source": [
        "- high mean: 10036, 10067\n",
        "- high variability: 10098, 100104\n"
      ]
    },
    {
      "cell_type": "markdown",
      "metadata": {
        "id": "UIHk7gc75Bwq"
      },
      "source": [
        "### Scatter plot\n",
        "\n",
        "Let's load the population data from the Pima Indian diabetes dataset:\n",
        "\n",
        "\n"
      ]
    },
    {
      "cell_type": "code",
      "metadata": {
        "id": "seBGusgv5F5Z"
      },
      "source": [
        "diabetes = pd.read_csv('/content/gdrive/My Drive/[YCMI_CBDS Summer Course] Data/diabetes.csv')"
      ],
      "execution_count": null,
      "outputs": []
    },
    {
      "cell_type": "markdown",
      "metadata": {
        "id": "gG5brrsxKbzQ"
      },
      "source": [
        "As always, start by looking at the data to get a sense of what it contains:"
      ]
    },
    {
      "cell_type": "code",
      "metadata": {
        "id": "gb14w4zg1Bk0"
      },
      "source": [
        "diabetes"
      ],
      "execution_count": null,
      "outputs": []
    },
    {
      "cell_type": "markdown",
      "metadata": {
        "id": "GQNgYq4_1FrV"
      },
      "source": [
        "Make a scatter plot showing the relationship of `Glucose` and `Insulin` in the `diabetes` data.\n"
      ]
    },
    {
      "cell_type": "code",
      "metadata": {
        "id": "i0i3xGvi1GQR"
      },
      "source": [
        "p9.ggplot(diabetes,p9.aes(x=\"Glucose\",y=\"Insulin\")) + p9.geom_point()"
      ],
      "execution_count": null,
      "outputs": []
    },
    {
      "cell_type": "markdown",
      "metadata": {
        "id": "M03XtPMdnxYj"
      },
      "source": [
        "You can see that there are a lot of times where insulin has a zero value. Let's filter those out and continue."
      ]
    },
    {
      "cell_type": "code",
      "metadata": {
        "id": "k6v_q6sanwhJ"
      },
      "source": [
        "diabetes_insulin = diabetes[diabetes['Insulin']!=0]"
      ],
      "execution_count": 9,
      "outputs": []
    },
    {
      "cell_type": "markdown",
      "metadata": {
        "id": "73tCY6iF5GYN"
      },
      "source": [
        "There are so many points, it's hard to see where the most likely values are in the basic scatter plot. To get a better sense, add a `p9.geom_density_2d` to overlay a contour map of the point density. Specify a `color` so that it stands out:"
      ]
    },
    {
      "cell_type": "code",
      "metadata": {
        "id": "5fp2Riz15Jy3"
      },
      "source": [
        "p9.ggplot(diabetes_insulin,p9.aes(x=\"Glucose\",y=\"Insulin\")) + p9.geom_point() + p9.geom_density_2d(color='red')"
      ],
      "execution_count": null,
      "outputs": []
    },
    {
      "cell_type": "markdown",
      "metadata": {
        "id": "m5tZCsSKLfZq"
      },
      "source": [
        "Finally, let's add a smoothed curve `p9.geom_smooth` showing the overall trend. Again, specify a color so that you can see the trend curve:"
      ]
    },
    {
      "cell_type": "code",
      "metadata": {
        "id": "-cIA6JQkLdeG"
      },
      "source": [
        "p9.ggplot(diabetes_insulin,p9.aes(x=\"Glucose\",y=\"Insulin\")) + p9.geom_point() + p9.geom_density_2d(color='red') + p9.geom_smooth(method='lm',color='blue',se=False)"
      ],
      "execution_count": null,
      "outputs": []
    }
  ]
}