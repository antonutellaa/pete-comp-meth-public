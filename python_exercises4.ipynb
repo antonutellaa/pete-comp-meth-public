{
  "nbformat": 4,
  "nbformat_minor": 0,
  "metadata": {
    "colab": {
      "provenance": [],
      "include_colab_link": true
    },
    "kernelspec": {
      "name": "python3",
      "display_name": "Python 3"
    }
  },
  "cells": [
    {
      "cell_type": "markdown",
      "metadata": {
        "id": "view-in-github",
        "colab_type": "text"
      },
      "source": [
        "<a href=\"https://colab.research.google.com/github/antonutellaa/pete-comp-meth-public/blob/main/python_exercises4.ipynb\" target=\"_parent\"><img src=\"https://colab.research.google.com/assets/colab-badge.svg\" alt=\"Open In Colab\"/></a>"
      ]
    },
    {
      "cell_type": "markdown",
      "metadata": {
        "id": "549BxVjhWyfM"
      },
      "source": [
        "As was mentioned in the lecture, one of the great strengths of Python is the ease with which it allows you to assemble tools to solve a problem instead of having to reinvent all the techniques yourself.\n",
        "\n",
        "For example, consider the following doctor's note:"
      ]
    },
    {
      "cell_type": "code",
      "metadata": {
        "id": "AyYDqo2PWwDX"
      },
      "source": [
        "note = \"\"\"\n",
        "John is 32 years old. Sarah is 29 years old. Their child, Sam is 2 years old.\n",
        "All members of the family were healthy at Sam's last checkup. Today, however,\n",
        "while the mother appeared healthy -- Sarah's temperature was 37 degrees, she\n",
        "said -- she also said that the father couldn't make Sam's appointment today\n",
        "because John's temperature was 40 degrees, so he went to go see his physician\n",
        "instead. During the visit, we measured that Sam's temperature was 38 degrees,\n",
        "a low grade fever. Sarah mentioned her mother, Jean was diagnosed with mprbble\n",
        "recently, but after further discussion they hadn't seen Jean in over two weeks\n",
        "and given the usual incubation time, it was improbable that this was also\n",
        "afflicting little Sam. Several tests were ordered. When the results were in,\n",
        "Sam was diagnosed with strep.\n",
        "\"\"\""
      ],
      "execution_count": null,
      "outputs": []
    },
    {
      "cell_type": "markdown",
      "metadata": {
        "id": "7SAtixrJcwBv"
      },
      "source": [
        "We know how to do a little bit of analysis on the `note` already. For example, as a very crude approximation of the level of concern, one might wonder how many words are written in various doctor's notes, and see if e.g. notes about pneumonia are longer than those about the common cold.\n",
        "Using what you've already learned, how many words are in this `note`?"
      ]
    },
    {
      "cell_type": "code",
      "metadata": {
        "id": "xTqnKrxuX7ZM"
      },
      "source": [],
      "execution_count": null,
      "outputs": []
    },
    {
      "cell_type": "markdown",
      "metadata": {
        "id": "xxnWFI9CdK-L"
      },
      "source": [
        "Does your count include numbers (e.g. \"32\")? How can you prove this to yourself? (It's always important to test things to make sure that they work the way you think they do.)"
      ]
    },
    {
      "cell_type": "code",
      "metadata": {
        "id": "T4v57dSEdzAo"
      },
      "source": [],
      "execution_count": null,
      "outputs": []
    },
    {
      "cell_type": "markdown",
      "metadata": {
        "id": "A7eX__svd0EQ"
      },
      "source": [
        "Let's say that we wanted to answer a more complicated question: **how many people are mentioned in this note?** (Maybe you're testing a hypothesis that some diseases can be better understood in the context of the community.)\n",
        "\n",
        "You could count, and it wouldn't take that long, but that is impractical if you have a million notes to analyze.\n",
        "\n",
        "Go back and look at this note. See if you notice any recurring patterns that could indicate a name."
      ]
    },
    {
      "cell_type": "markdown",
      "metadata": {
        "id": "SGHQ_h5kfF2D"
      },
      "source": [
        "**DESCRIBE THE PATTERNS THAT YOU NOTICED HERE.**"
      ]
    },
    {
      "cell_type": "markdown",
      "metadata": {
        "id": "UUxMbuzhfZqD"
      },
      "source": [
        "Pattern recognition is a pretty basic concept. You might think to yourself that people have probably tried to do pattern recognition in strings on the computer before, and you'd be right. Try a quick search for e.g. `python pattern recognition string` to see if you can find a module (library) that can help."
      ]
    },
    {
      "cell_type": "markdown",
      "metadata": {
        "id": "phpjQ4FsgjzG"
      },
      "source": [
        "**DESCRIBE WHAT YOU LEARNED HERE**"
      ]
    },
    {
      "cell_type": "markdown",
      "metadata": {
        "id": "mjy8Miutgn1d"
      },
      "source": [
        "Good job. You probably found that there's a concept called regular expressions that provides a formalized way of describing patterns in strings and that there's a module `re` for working with regular expressions. Go ahead and `import` the `re` module:"
      ]
    },
    {
      "cell_type": "code",
      "metadata": {
        "id": "kEa6YsTWfEeN"
      },
      "source": [],
      "execution_count": null,
      "outputs": []
    },
    {
      "cell_type": "markdown",
      "metadata": {
        "id": "BSpKydgmhaDw"
      },
      "source": [
        "Let's find out what functions are in the module by doing a `dir`:"
      ]
    },
    {
      "cell_type": "code",
      "metadata": {
        "id": "cczx8iE5hfOg"
      },
      "source": [],
      "execution_count": null,
      "outputs": []
    },
    {
      "cell_type": "markdown",
      "metadata": {
        "id": "H23Sh3E9pBAQ"
      },
      "source": [
        "`findall` sounds promising. Ask for `help` on `findall`:"
      ]
    },
    {
      "cell_type": "code",
      "metadata": {
        "id": "aNLncuvApF3x"
      },
      "source": [],
      "execution_count": null,
      "outputs": []
    },
    {
      "cell_type": "markdown",
      "metadata": {
        "id": "9aa716AShF3B"
      },
      "source": [
        "So we've learned `findall` takes a pattern and a string and returns a list of matches. The simplest pattern is of course just a string:"
      ]
    },
    {
      "cell_type": "code",
      "metadata": {
        "id": "wMsOUpLvrsLY",
        "colab": {
          "base_uri": "https://localhost:8080/",
          "height": 34
        },
        "outputId": "f8ceeaec-dbdf-4c60-d341-1ad6b1e3a463"
      },
      "source": [
        "re.findall(\"years\", note)"
      ],
      "execution_count": null,
      "outputs": [
        {
          "output_type": "execute_result",
          "data": {
            "text/plain": [
              "['years', 'years', 'years']"
            ]
          },
          "metadata": {
            "tags": []
          },
          "execution_count": 8
        }
      ]
    },
    {
      "cell_type": "markdown",
      "metadata": {
        "id": "mfaeXrafrxrv"
      },
      "source": [
        "So \"years\" occurs three times. That's good to know, but we'd really like to know how many years.\n",
        "\n",
        "The goal of this exercise is to get experience with calling library functions not regular expressions, but here is an introduction to a tiny but useful subset of regular expression pattern specification:\n",
        "\n",
        "    [] indicate options, e.g. [ae] means a or e, ranges are allowed, e.g. [a-z] or even [a-zA-Z]\n",
        "    + means the previous item repeats 1 or more times; e.g. [0-9]+ means one or more repeating digits\n",
        "    () indicates grouping; if no group is specified, the whole match is returned\n",
        "\n",
        "For reasons that don't matter with this subset, you'll often find regular expression patterns written using a raw-string which is like a regular string but with the letter `r` written in front, e.g. `r\"the\"`; we'll use this for all of our examples even though it's not strictly necessary:"
      ]
    },
    {
      "cell_type": "markdown",
      "metadata": {
        "id": "pYi8IZEttTLI"
      },
      "source": [
        "For example, suppose we want to find all the words that occur after \"the\". That's the letters \"the\", a space, and then one or more letters. If we do:"
      ]
    },
    {
      "cell_type": "code",
      "metadata": {
        "id": "hnLrIU3hhD-t",
        "colab": {
          "base_uri": "https://localhost:8080/",
          "height": 121
        },
        "outputId": "aa1ad305-6e63-4ace-d3f6-ca79cf8777e1"
      },
      "source": [
        "re.findall(r\"the [a-zA-Z]+\", note)"
      ],
      "execution_count": null,
      "outputs": [
        {
          "output_type": "execute_result",
          "data": {
            "text/plain": [
              "['the family',\n",
              " 'the mother',\n",
              " 'the father',\n",
              " 'the visit',\n",
              " 'the usual',\n",
              " 'the results']"
            ]
          },
          "metadata": {
            "tags": []
          },
          "execution_count": 12
        }
      ]
    },
    {
      "cell_type": "markdown",
      "metadata": {
        "id": "dVpJNjgLwKQj"
      },
      "source": [
        "Compare to the text of the `note` to convince yourself this result is correct.\n",
        "\n",
        "If we want to get only specific data, we can use `()` around the piece or pieces that we're interested in:"
      ]
    },
    {
      "cell_type": "code",
      "metadata": {
        "id": "qOVD81bwjU1H",
        "colab": {
          "base_uri": "https://localhost:8080/",
          "height": 34
        },
        "outputId": "7bf9df7f-e4ad-4625-c19a-5184f33792fb"
      },
      "source": [
        "re.findall(r\"the ([a-zA-Z]+)\", note)"
      ],
      "execution_count": null,
      "outputs": [
        {
          "output_type": "execute_result",
          "data": {
            "text/plain": [
              "['family', 'mother', 'father', 'visit', 'usual', 'results']"
            ]
          },
          "metadata": {
            "tags": []
          },
          "execution_count": 13
        }
      ]
    },
    {
      "cell_type": "markdown",
      "metadata": {
        "id": "OlzKrbz4wioU"
      },
      "source": [
        "Adapt this to find the various ages. (Check the `note` to see the pattern for mentioning ages used by this author. You can imagine that there are other ways of indicating age, but we'll ignore that for now.)"
      ]
    },
    {
      "cell_type": "code",
      "metadata": {
        "id": "hBcjOUngwYod"
      },
      "source": [],
      "execution_count": null,
      "outputs": []
    },
    {
      "cell_type": "markdown",
      "metadata": {
        "id": "VogsOGP0wm2O"
      },
      "source": [
        "Now modify your expression (you'll need to add a second set of parentheses) to find out who is each age:"
      ]
    },
    {
      "cell_type": "code",
      "metadata": {
        "id": "Ss0uZnS1wgcE"
      },
      "source": [],
      "execution_count": null,
      "outputs": []
    },
    {
      "cell_type": "markdown",
      "metadata": {
        "id": "Y_wlYd2rxEQy"
      },
      "source": [
        "Extend this slightly by writing a function that takes a string (e.g. `note`) and indicates in a human-readable way who is each age. Make your own test and then run it with `note`:"
      ]
    },
    {
      "cell_type": "code",
      "metadata": {
        "id": "NLOAfNR4xh2U"
      },
      "source": [],
      "execution_count": null,
      "outputs": []
    },
    {
      "cell_type": "markdown",
      "metadata": {
        "id": "Quo4wsTlxiZc"
      },
      "source": [
        "Modify your function to report whether or not each person is an adult (age 18 or older) in addition to their age. You will want to use the `int` function to convert a string into a number. Run it with the `note`."
      ]
    },
    {
      "cell_type": "code",
      "metadata": {
        "id": "VvrO3lDwyV5-"
      },
      "source": [],
      "execution_count": null,
      "outputs": []
    },
    {
      "cell_type": "markdown",
      "metadata": {
        "id": "XyRg2prmyflk"
      },
      "source": [
        "Find a similar pattern for indicating who has been diagnosed with what, and use that to get a *set* of the people who have diagnoses mentioned in the note:"
      ]
    },
    {
      "cell_type": "code",
      "metadata": {
        "id": "AlXHVbMHytwK"
      },
      "source": [],
      "execution_count": null,
      "outputs": []
    },
    {
      "cell_type": "markdown",
      "metadata": {
        "id": "xHpZc66vyylM"
      },
      "source": [
        "Assume that everyone who is mentioned in a `note` either has an age or a diagnosis. Using your two regular expression patterns, get a *set* of all the people mentioned in the note. (Hint: you might want to use a set's `union` method to combine two sets.)"
      ]
    },
    {
      "cell_type": "code",
      "metadata": {
        "id": "lsFAuY0CzfiM"
      },
      "source": [],
      "execution_count": null,
      "outputs": []
    },
    {
      "cell_type": "markdown",
      "metadata": {
        "id": "QKtlzgRXzhp-"
      },
      "source": [
        "Think about why we'd want to use a *set* instead of a *list*.\n",
        "\n",
        "Finally, have the computer answer the original question: how many people are mentioned in this note?"
      ]
    },
    {
      "cell_type": "code",
      "metadata": {
        "id": "P8uhtQYOzoqG"
      },
      "source": [],
      "execution_count": null,
      "outputs": []
    }
  ]
}