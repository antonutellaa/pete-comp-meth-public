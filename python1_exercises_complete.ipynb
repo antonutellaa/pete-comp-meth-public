{
  "nbformat": 4,
  "nbformat_minor": 0,
  "metadata": {
    "colab": {
      "provenance": [],
      "include_colab_link": true
    },
    "kernelspec": {
      "name": "python3",
      "display_name": "Python 3"
    }
  },
  "cells": [
    {
      "cell_type": "markdown",
      "metadata": {
        "id": "view-in-github",
        "colab_type": "text"
      },
      "source": [
        "<a href=\"https://colab.research.google.com/github/antonutellaa/pete-comp-meth-public/blob/main/python1_exercises_complete.ipynb\" target=\"_parent\"><img src=\"https://colab.research.google.com/assets/colab-badge.svg\" alt=\"Open In Colab\"/></a>"
      ]
    },
    {
      "cell_type": "markdown",
      "metadata": {
        "id": "EVAzbZQQKwhl"
      },
      "source": [
        "Consider the following list of words:"
      ]
    },
    {
      "cell_type": "code",
      "metadata": {
        "id": "wYWFhAswKyP4"
      },
      "source": [
        "words = [\n",
        "         \"In\", \"order\", \"to\", \"support\", \"research\", \"on\", \"genomics\",\n",
        "         \"proteomics\", \"signaling\", \"on\", \"the\", \"neostriatum\", \"in\",\n",
        "         \"rats\", \"and\", \"humans\", \"proteins\", \"arithmetic\", \"species\",\n",
        "         \"compiled\", \"significant\", \"differences\", \"in\", \"species\", \"primate\",\n",
        "         \"Designation\", \"of\", \"proteins\", \"without\", \"integration\",\n",
        "         \"designation\"\n",
        "]"
      ],
      "execution_count": 2,
      "outputs": []
    },
    {
      "cell_type": "markdown",
      "metadata": {
        "id": "kUbIRVVZLXEL"
      },
      "source": [
        "How many words are in the `words` list? Use the `len` function to find out:"
      ]
    },
    {
      "cell_type": "code",
      "metadata": {
        "id": "jih_MXN5LViM",
        "colab": {
          "base_uri": "https://localhost:8080/"
        },
        "outputId": "db294113-c896-4e55-e8ef-feabea97674c"
      },
      "source": [
        "len(words)"
      ],
      "execution_count": 3,
      "outputs": [
        {
          "output_type": "execute_result",
          "data": {
            "text/plain": [
              "31"
            ]
          },
          "metadata": {},
          "execution_count": 3
        }
      ]
    },
    {
      "cell_type": "markdown",
      "metadata": {
        "id": "Znwhz0ArLuG1"
      },
      "source": [
        "Copy-paste the list of words here, but (1) assign it to a different variable `my_words` and (2) replace the square brackets `[]` with curly brackets `{}` to create a **set**.\n",
        "\n"
      ]
    },
    {
      "cell_type": "code",
      "metadata": {
        "id": "gRMEXjVnA0H7"
      },
      "source": [
        "my_words = {\n",
        "         \"In\", \"order\", \"to\", \"support\", \"research\", \"on\", \"genomics\",\n",
        "         \"proteomics\", \"signaling\", \"on\", \"the\", \"neostriatum\", \"in\",\n",
        "         \"rats\", \"and\", \"humans\", \"proteins\", \"arithmetic\", \"species\",\n",
        "         \"compiled\", \"significant\", \"differences\", \"in\", \"species\", \"primate\",\n",
        "         \"Designation\", \"of\", \"proteins\", \"without\", \"integration\",\n",
        "         \"designation\"\n",
        "}"
      ],
      "execution_count": 5,
      "outputs": []
    },
    {
      "cell_type": "markdown",
      "metadata": {
        "id": "mJmYQtEEMTwJ"
      },
      "source": [
        "Use the `len` function on `my_words` to find out how many unique words are in the set. (Remember, sets do not have repeats but lists do.)"
      ]
    },
    {
      "cell_type": "code",
      "metadata": {
        "id": "YITQGVzUMQPr",
        "colab": {
          "base_uri": "https://localhost:8080/"
        },
        "outputId": "9b4f2859-8929-4cfe-fe28-f1982b4452a0"
      },
      "source": [
        "len(my_words)"
      ],
      "execution_count": 6,
      "outputs": [
        {
          "output_type": "execute_result",
          "data": {
            "text/plain": [
              "27"
            ]
          },
          "metadata": {},
          "execution_count": 6
        }
      ]
    },
    {
      "cell_type": "markdown",
      "metadata": {
        "id": "w8e6U7ITkM2J"
      },
      "source": [
        "Do the words \"proteins\" and \"genes\" appear in the set of `my_words`? Check for them using `in`."
      ]
    },
    {
      "cell_type": "code",
      "metadata": {
        "id": "r3udvkBbkeME",
        "colab": {
          "base_uri": "https://localhost:8080/"
        },
        "outputId": "45d42f0d-a4e7-44e0-d34f-7b7bb852c8bf"
      },
      "source": [
        "\"genes\" in my_words"
      ],
      "execution_count": 7,
      "outputs": [
        {
          "output_type": "execute_result",
          "data": {
            "text/plain": [
              "False"
            ]
          },
          "metadata": {},
          "execution_count": 7
        }
      ]
    },
    {
      "cell_type": "code",
      "metadata": {
        "id": "sFQwjUyikeZd",
        "colab": {
          "base_uri": "https://localhost:8080/"
        },
        "outputId": "47abb1b5-e4c3-4931-aaef-18d0bfe43236"
      },
      "source": [
        "\"proteins\" in my_words"
      ],
      "execution_count": 8,
      "outputs": [
        {
          "output_type": "execute_result",
          "data": {
            "text/plain": [
              "True"
            ]
          },
          "metadata": {},
          "execution_count": 8
        }
      ]
    },
    {
      "cell_type": "markdown",
      "metadata": {
        "id": "hky3BML7cGmE"
      },
      "source": [
        "Consider the following dictionary of patients and their data. The keys of the dictionary are unique identifiers assigned to each patient. This allows the system to distinguish multiple people with the same name."
      ]
    },
    {
      "cell_type": "code",
      "metadata": {
        "id": "KjY1GwmiMRTS"
      },
      "source": [
        "patients = {\n",
        "    521236: {\n",
        "        'last_name': 'Dawson',\n",
        "        'first_name': 'Louise',\n",
        "        'temperatures': [37.7, 37.2, 37.5, 37.3],\n",
        "        'height': 1.49\n",
        "    },\n",
        "    627256: {\n",
        "        'last_name': 'Valencia',\n",
        "        'first_name': 'Thelma',\n",
        "        'temperatures': [36.5, 36.9],\n",
        "        'height': 1.74\n",
        "    },\n",
        "    876516: {\n",
        "        'last_name': 'Ventura',\n",
        "        'first_name': 'William',\n",
        "        'temperatures': [36.6, 36.8, 37.8, 37.2],\n",
        "        'height': 1.70\n",
        "    },\n",
        "    161451: {\n",
        "        'last_name': 'Shackelford',\n",
        "        'first_name': 'Steven',\n",
        "        'temperatures': [37.9, 38.4, 38.4],\n",
        "        'height': 1.67\n",
        "    },\n",
        "    623724: {\n",
        "        'last_name': 'Rzeczycki',\n",
        "        'first_name': 'Kristi',\n",
        "        'temperatures': [37.9, 37.8],\n",
        "        'height': 1.65\n",
        "    }\n",
        "}"
      ],
      "execution_count": 9,
      "outputs": []
    },
    {
      "cell_type": "markdown",
      "metadata": {
        "id": "QPSwHENMgyrK"
      },
      "source": [
        "How many patients are there? Use `len` to find out."
      ]
    },
    {
      "cell_type": "code",
      "metadata": {
        "id": "24dNd5iMg4lV",
        "colab": {
          "base_uri": "https://localhost:8080/"
        },
        "outputId": "020853cb-366e-4f61-c413-914b34603d63"
      },
      "source": [
        "len(patients)"
      ],
      "execution_count": 10,
      "outputs": [
        {
          "output_type": "execute_result",
          "data": {
            "text/plain": [
              "5"
            ]
          },
          "metadata": {},
          "execution_count": 10
        }
      ]
    },
    {
      "cell_type": "markdown",
      "metadata": {
        "id": "Xz_2RUFDjEfd"
      },
      "source": [
        "What is the height of patient 876516? Write code using `[]` to find out."
      ]
    },
    {
      "cell_type": "code",
      "metadata": {
        "id": "QFTtszUajKI0",
        "colab": {
          "base_uri": "https://localhost:8080/"
        },
        "outputId": "79e6faf3-d0ea-464b-8420-986111e16251"
      },
      "source": [
        "patients[876516]['height']\n",
        "#I'm assuming the height is in meters, so the patient should be 1.7m tall."
      ],
      "execution_count": 12,
      "outputs": [
        {
          "output_type": "execute_result",
          "data": {
            "text/plain": [
              "1.7"
            ]
          },
          "metadata": {},
          "execution_count": 12
        }
      ]
    },
    {
      "cell_type": "markdown",
      "metadata": {
        "id": "akVNcnGUjKmZ"
      },
      "source": [
        "Given that the height is measured in meters and that there are 2.54 cm for every inch, how tall is patient 876516 in inches? Write code to find out."
      ]
    },
    {
      "cell_type": "code",
      "metadata": {
        "id": "hkLa-_iMjzOm",
        "colab": {
          "base_uri": "https://localhost:8080/"
        },
        "outputId": "ad9d5747-11b8-4049-8868-8b953219afe1"
      },
      "source": [
        "#I didn't read this question before I made the assumption the height is in meters, my apologies.\n",
        "meter_height = patients[876516]['height']\n",
        "#One meter has 100 cm, convert to centimeters, and then multiply by 2.54 cm to get inches\n",
        "new_height = (meter_height * 100)/2.54\n",
        "new_height\n",
        "#new_height should be about 66.93 in"
      ],
      "execution_count": 14,
      "outputs": [
        {
          "output_type": "execute_result",
          "data": {
            "text/plain": [
              "66.92913385826772"
            ]
          },
          "metadata": {},
          "execution_count": 14
        }
      ]
    },
    {
      "cell_type": "markdown",
      "metadata": {
        "id": "i71n3LDTi0B2"
      },
      "source": [
        "How many temperature readings have been made for patient 876516? Write code using `[]` and `len` to find out."
      ]
    },
    {
      "cell_type": "code",
      "metadata": {
        "id": "aA_U2XDhi-dZ",
        "colab": {
          "base_uri": "https://localhost:8080/"
        },
        "outputId": "0c5ba010-eae0-4a49-f237-a2eb953456d9"
      },
      "source": [
        "len(patients[876516]['temperatures'])\n",
        "#answer is 4, list is 36.6, 36.8, 37.8, and 37.2"
      ],
      "execution_count": 16,
      "outputs": [
        {
          "output_type": "execute_result",
          "data": {
            "text/plain": [
              "4"
            ]
          },
          "metadata": {},
          "execution_count": 16
        }
      ]
    },
    {
      "cell_type": "markdown",
      "metadata": {
        "id": "rN-np9Oyj8Xv"
      },
      "source": [
        "What is the maximum temperature reading for patient 876516? Use `max`."
      ]
    },
    {
      "cell_type": "code",
      "metadata": {
        "id": "go3YArWpkBAI",
        "colab": {
          "base_uri": "https://localhost:8080/"
        },
        "outputId": "ea96fc1c-2b29-4c46-db6d-22fbe54319c4"
      },
      "source": [
        "max(patients[876516]['temperatures'])"
      ],
      "execution_count": 17,
      "outputs": [
        {
          "output_type": "execute_result",
          "data": {
            "text/plain": [
              "37.8"
            ]
          },
          "metadata": {},
          "execution_count": 17
        }
      ]
    },
    {
      "cell_type": "markdown",
      "metadata": {
        "id": "oNv7uLgcknah"
      },
      "source": [
        "What was the second temperature reading recorded for patient 876516? Use `[]`. Your answer should be 36.8. If you get a different answer, figure out why and fix your query."
      ]
    },
    {
      "cell_type": "code",
      "metadata": {
        "id": "ZN3tJ2e4lDGL",
        "colab": {
          "base_uri": "https://localhost:8080/"
        },
        "outputId": "a82cfd1d-111c-4f50-c60c-59842624c26b"
      },
      "source": [
        "patients[876516]['temperatures'][1]"
      ],
      "execution_count": 18,
      "outputs": [
        {
          "output_type": "execute_result",
          "data": {
            "text/plain": [
              "36.8"
            ]
          },
          "metadata": {},
          "execution_count": 18
        }
      ]
    },
    {
      "cell_type": "markdown",
      "metadata": {
        "id": "uTKfDKKCg47v"
      },
      "source": [
        "Do we have data for the patient 531616? What about patient 161451? Test for them using `in`."
      ]
    },
    {
      "cell_type": "code",
      "metadata": {
        "id": "EVDuwqx6j3JK",
        "colab": {
          "base_uri": "https://localhost:8080/"
        },
        "outputId": "4264323a-4682-4fe4-a7ee-7d2b354aa4ca"
      },
      "source": [
        "531616 in patients"
      ],
      "execution_count": 19,
      "outputs": [
        {
          "output_type": "execute_result",
          "data": {
            "text/plain": [
              "False"
            ]
          },
          "metadata": {},
          "execution_count": 19
        }
      ]
    },
    {
      "cell_type": "code",
      "source": [
        "161451 in patients"
      ],
      "metadata": {
        "id": "V1Qz_T5IGcnl",
        "outputId": "67a017d3-eccb-46a5-eb9e-d78a351ad18c",
        "colab": {
          "base_uri": "https://localhost:8080/"
        }
      },
      "execution_count": 20,
      "outputs": [
        {
          "output_type": "execute_result",
          "data": {
            "text/plain": [
              "True"
            ]
          },
          "metadata": {},
          "execution_count": 20
        }
      ]
    },
    {
      "cell_type": "markdown",
      "metadata": {
        "id": "EDx1mqlplXAz"
      },
      "source": [
        "**append** a new temperature reading of 38.3 for patient 623724. After you have done so, find the maximum and minimum of their measured temperature values."
      ]
    },
    {
      "cell_type": "code",
      "metadata": {
        "id": "f_USiUcwlvXX"
      },
      "source": [
        "patients[623724]['temperatures'].append(38.3)"
      ],
      "execution_count": 21,
      "outputs": []
    },
    {
      "cell_type": "code",
      "source": [
        "maxtemp = max(patients[623724]['temperatures'])\n",
        "maxtemp"
      ],
      "metadata": {
        "id": "LSTR6oiEHAYV",
        "outputId": "f825eb3a-d684-4d6c-a3ec-daa69e4b8592",
        "colab": {
          "base_uri": "https://localhost:8080/"
        }
      },
      "execution_count": 24,
      "outputs": [
        {
          "output_type": "execute_result",
          "data": {
            "text/plain": [
              "38.3"
            ]
          },
          "metadata": {},
          "execution_count": 24
        }
      ]
    },
    {
      "cell_type": "code",
      "metadata": {
        "id": "YpMXxWQllvam",
        "colab": {
          "base_uri": "https://localhost:8080/"
        },
        "outputId": "c8a64ad3-37ba-4564-c7a2-97928f97d882"
      },
      "source": [
        "mintemp = min(patients[623724]['temperatures'])\n",
        "mintemp"
      ],
      "execution_count": 25,
      "outputs": [
        {
          "output_type": "execute_result",
          "data": {
            "text/plain": [
              "37.8"
            ]
          },
          "metadata": {},
          "execution_count": 25
        }
      ]
    },
    {
      "cell_type": "markdown",
      "metadata": {
        "id": "P2h3kqsPl0Pw"
      },
      "source": [
        "Add Susan Sinclair (patient 517235) to the dictionary. She is 1.67m tall and has never had her temperature recorded (i.e. the list is `[]`)."
      ]
    },
    {
      "cell_type": "code",
      "metadata": {
        "id": "TtdaEthfmfps"
      },
      "source": [
        "patients[517235] = {\n",
        "    'last_name': 'Sinclair',\n",
        "    'first_name': 'Susan',\n",
        "    'temperatures': [],\n",
        "    'height': 1.67\n",
        "}"
      ],
      "execution_count": 30,
      "outputs": []
    },
    {
      "cell_type": "markdown",
      "metadata": {
        "id": "mwOcugmomopP"
      },
      "source": [
        "Verify that you added her successfully by checking the number of patients in the dictionary. There should be six."
      ]
    },
    {
      "cell_type": "code",
      "metadata": {
        "id": "YpComTskmx1D",
        "colab": {
          "base_uri": "https://localhost:8080/"
        },
        "outputId": "e049ec3d-dc0d-4f17-d4ba-fd612e296318"
      },
      "source": [
        "len(patients)\n",
        "#there should be 6 patients listed now\n",
        "patients[517235]\n",
        "#this will generate susan's record"
      ],
      "execution_count": 32,
      "outputs": [
        {
          "output_type": "execute_result",
          "data": {
            "text/plain": [
              "{'last_name': 'Sinclair',\n",
              " 'first_name': 'Susan',\n",
              " 'temperatures': [],\n",
              " 'height': 1.67}"
            ]
          },
          "metadata": {},
          "execution_count": 32
        }
      ]
    },
    {
      "cell_type": "markdown",
      "metadata": {
        "id": "DFk5VlgXaJbn"
      },
      "source": [
        "Suppose that the number of patients in your system doubles every 10 days. How many patients will you have in 30 days? Hint: start with the `len(patients)` you have now and multiply it by 2 raised to the power of the number of doublings (which you can compute using division)."
      ]
    },
    {
      "cell_type": "code",
      "metadata": {
        "id": "ULzXWvB-buSH",
        "colab": {
          "base_uri": "https://localhost:8080/"
        },
        "outputId": "c393bbf9-3bc8-49ff-993b-43074bc9f767"
      },
      "source": [
        "len(patients) * (2**(30//10))"
      ],
      "execution_count": 33,
      "outputs": [
        {
          "output_type": "execute_result",
          "data": {
            "text/plain": [
              "48"
            ]
          },
          "metadata": {},
          "execution_count": 33
        }
      ]
    }
  ]
}