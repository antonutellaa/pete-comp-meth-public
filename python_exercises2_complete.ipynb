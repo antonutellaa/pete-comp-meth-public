{
  "nbformat": 4,
  "nbformat_minor": 0,
  "metadata": {
    "colab": {
      "provenance": [],
      "include_colab_link": true
    },
    "kernelspec": {
      "name": "python3",
      "display_name": "Python 3"
    }
  },
  "cells": [
    {
      "cell_type": "markdown",
      "metadata": {
        "id": "view-in-github",
        "colab_type": "text"
      },
      "source": [
        "<a href=\"https://colab.research.google.com/github/antonutellaa/pete-comp-meth-public/blob/main/python_exercises2_complete.ipynb\" target=\"_parent\"><img src=\"https://colab.research.google.com/assets/colab-badge.svg\" alt=\"Open In Colab\"/></a>"
      ]
    },
    {
      "cell_type": "markdown",
      "metadata": {
        "id": "1LPk_SufOcFH"
      },
      "source": [
        "Lets continue with our data from the previous exercise:"
      ]
    },
    {
      "cell_type": "code",
      "metadata": {
        "id": "tlXvB6EMOYx3"
      },
      "source": [
        "patients = {\n",
        "    521236: {\n",
        "        'last_name': 'Dawson',\n",
        "        'first_name': 'Louise',\n",
        "        'temperatures': [37.7, 37.2, 37.5, 37.3],\n",
        "        'height': 1.49\n",
        "    },\n",
        "    627256: {\n",
        "        'last_name': 'Valencia',\n",
        "        'first_name': 'Thelma',\n",
        "        'temperatures': [36.5, 36.9],\n",
        "        'height': 1.74\n",
        "    },\n",
        "    876516: {\n",
        "        'last_name': 'Ventura',\n",
        "        'first_name': 'William',\n",
        "        'temperatures': [36.6, 36.8, 37.8, 37.2],\n",
        "        'height': 1.70\n",
        "    },\n",
        "    161451: {\n",
        "        'last_name': 'Shackelford',\n",
        "        'first_name': 'Steven',\n",
        "        'temperatures': [37.9, 38.4, 38.4],\n",
        "        'height': 1.67\n",
        "    },\n",
        "    623724: {\n",
        "        'last_name': 'Rzeczycki',\n",
        "        'first_name': 'Kristi',\n",
        "        'temperatures': [37.9, 37.8],\n",
        "        'height': 1.65\n",
        "    }\n",
        "}"
      ],
      "execution_count": 2,
      "outputs": []
    },
    {
      "cell_type": "markdown",
      "metadata": {
        "id": "W9xVPGKsOmzJ"
      },
      "source": [
        "Write a function `summarize_patient` that takes a patient id and displays their name and the number of temperature measurements. You may assume that the patient id is in the above dictionary.\n",
        "\n",
        "For example, calling\n",
        "```\n",
        "summarize_patient(623724)\n",
        "```\n",
        "\n",
        "should display:\n",
        "```\n",
        "Kristi Rzeczycki has 2 recorded temperatures.\n",
        "```"
      ]
    },
    {
      "cell_type": "code",
      "metadata": {
        "id": "AVgesQ7LPPib"
      },
      "source": [
        "def summarize_patient(patient_id):\n",
        "  patient = patients[patient_id]\n",
        "  name = f\"{patient['first_name']} {patient['last_name']}\"\n",
        "  temp_count = len(patient['temperatures'])\n",
        "  print(f\"{name} has {temp_count} temperatures on file.\")"
      ],
      "execution_count": 4,
      "outputs": []
    },
    {
      "cell_type": "markdown",
      "metadata": {
        "id": "eFoF6i7SPYUf"
      },
      "source": [
        "Test your function."
      ]
    },
    {
      "cell_type": "code",
      "metadata": {
        "id": "zrOL4F8yPvhw",
        "outputId": "295b772a-5afc-4cd3-9acf-e698bcf435e3",
        "colab": {
          "base_uri": "https://localhost:8080/"
        }
      },
      "source": [
        "summarize_patient(623724)"
      ],
      "execution_count": 5,
      "outputs": [
        {
          "output_type": "stream",
          "name": "stdout",
          "text": [
            "Kristi Rzeczycki has 2 temperatures on file.\n"
          ]
        }
      ]
    },
    {
      "cell_type": "markdown",
      "metadata": {
        "id": "oNVBEhMBPyIG"
      },
      "source": [
        "Recall from the lecture that we can convert temperatures from degrees Celsius to degrees Fahrenheit using the function:"
      ]
    },
    {
      "cell_type": "code",
      "metadata": {
        "id": "LWKu6qNzQKJk"
      },
      "source": [
        "def degc_to_degf(degc):\n",
        "  return 32 + 9 * degc / 5"
      ],
      "execution_count": 7,
      "outputs": []
    },
    {
      "cell_type": "markdown",
      "metadata": {
        "id": "b-HfTRTBQiDp"
      },
      "source": [
        "Define a new function, `summarize_patient2` that takes a patient id and prints their name and highest temperature converted to degrees Fahrenheit. e.g. calling\n",
        "```\n",
        "summarize_patient2(623724)\n",
        "```\n",
        "should display\n",
        "```\n",
        "Kristi Rzeczycki's highest temperature was 100.22 F.\n",
        "```"
      ]
    },
    {
      "cell_type": "code",
      "metadata": {
        "id": "WVgeT4ACREgV"
      },
      "source": [
        "def degc_to_degf(degc):\n",
        "  return 32 + 9 * degc / 5\n",
        "\n",
        "def summarize_patient2(patient_id):\n",
        "  patient = patients[patient_id]\n",
        "  name = f\"{patient['first_name']} {patient['last_name']}\"\n",
        "\n",
        "  maxtempcel = max(patient['temperatures'])\n",
        "  maxtempfar = degc_to_degf(maxtempcel)\n",
        "  print(f\"{name}'s highest temp was {maxtempfar:.2f} F.\")"
      ],
      "execution_count": 9,
      "outputs": []
    },
    {
      "cell_type": "markdown",
      "metadata": {
        "id": "0nljFnJnRFOe"
      },
      "source": [
        "Test your function. How can you tell if it is correct?"
      ]
    },
    {
      "cell_type": "code",
      "metadata": {
        "id": "Swc0PxwtRGZl",
        "outputId": "39d77b74-3aa0-4548-f207-cac959d1a99f",
        "colab": {
          "base_uri": "https://localhost:8080/"
        }
      },
      "source": [
        "summarize_patient2(623724)"
      ],
      "execution_count": 10,
      "outputs": [
        {
          "output_type": "stream",
          "name": "stdout",
          "text": [
            "Kristi Rzeczycki's highest temp was 100.22 F.\n"
          ]
        }
      ]
    }
  ]
}