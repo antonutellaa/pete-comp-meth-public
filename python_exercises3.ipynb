{
  "nbformat": 4,
  "nbformat_minor": 0,
  "metadata": {
    "colab": {
      "provenance": [],
      "include_colab_link": true
    },
    "kernelspec": {
      "name": "python3",
      "display_name": "Python 3"
    }
  },
  "cells": [
    {
      "cell_type": "markdown",
      "metadata": {
        "id": "view-in-github",
        "colab_type": "text"
      },
      "source": [
        "<a href=\"https://colab.research.google.com/github/antonutellaa/pete-comp-meth-public/blob/main/python_exercises3.ipynb\" target=\"_parent\"><img src=\"https://colab.research.google.com/assets/colab-badge.svg\" alt=\"Open In Colab\"/></a>"
      ]
    },
    {
      "cell_type": "markdown",
      "metadata": {
        "id": "OzAwlthxWj14"
      },
      "source": [
        "Let's return to our list of words from the first exercise:"
      ]
    },
    {
      "cell_type": "code",
      "metadata": {
        "id": "bQHUwPwnWmpv"
      },
      "source": [
        "words = [\n",
        "         \"In\", \"order\", \"to\", \"support\", \"research\", \"on\", \"genomics\",\n",
        "         \"proteomics\", \"signaling\", \"on\", \"the\", \"neostriatum\", \"in\",\n",
        "         \"rats\", \"and\", \"humans\", \"proteins\", \"arithmetic\", \"species\",\n",
        "         \"compiled\", \"significant\", \"differences\", \"in\", \"species\", \"primate\",\n",
        "         \"Designation\", \"of\", \"proteins\", \"without\", \"integration\",\n",
        "         \"designation\"\n",
        "]"
      ],
      "execution_count": null,
      "outputs": []
    },
    {
      "cell_type": "markdown",
      "metadata": {
        "id": "vkFJCWlcWu8m"
      },
      "source": [
        "Using a `for` loop, a dictionary, an `if` statement, and an arithmetic operator to build a dictionary whose keys are words and whose values are the counts of the number of times the given word has occurred.\n",
        "\n",
        "*Hint: remember that you can check to see if a key is in a dictionary using the `in` operator.*"
      ]
    },
    {
      "cell_type": "code",
      "metadata": {
        "id": "Zo0fINKaWodB"
      },
      "source": [],
      "execution_count": null,
      "outputs": []
    },
    {
      "cell_type": "markdown",
      "metadata": {
        "id": "ReUmHWb7XOgg"
      },
      "source": [
        "Turn your previous code into a function `count_words` that takes a list of words and returns a dictionary of their counts."
      ]
    },
    {
      "cell_type": "code",
      "metadata": {
        "id": "yHsOEVvyXf1M"
      },
      "source": [],
      "execution_count": null,
      "outputs": []
    },
    {
      "cell_type": "markdown",
      "metadata": {
        "id": "cCObvcyMXgst"
      },
      "source": [
        "Every string has a `.split()` method that can be used to split it into a list. By default, this method splits at white space (including spaces and line breaks). For example:"
      ]
    },
    {
      "cell_type": "code",
      "metadata": {
        "id": "7FO3ecZMYs6f",
        "colab": {
          "base_uri": "https://localhost:8080/",
          "height": 34
        },
        "outputId": "6c3a5abd-54fb-404d-f037-86d0c1fd98ac"
      },
      "source": [
        "short_note = 'Patient reported a stomachache'\n",
        "short_note.split()"
      ],
      "execution_count": null,
      "outputs": [
        {
          "output_type": "execute_result",
          "data": {
            "text/plain": [
              "['Patient', 'reported', 'a', 'stomachache']"
            ]
          },
          "metadata": {
            "tags": []
          },
          "execution_count": 9
        }
      ]
    },
    {
      "cell_type": "markdown",
      "metadata": {
        "id": "q7cx_2itZUsY"
      },
      "source": [
        "Consider instead the following note:"
      ]
    },
    {
      "cell_type": "code",
      "metadata": {
        "id": "uyyCddnZvmbi"
      },
      "source": [
        "note = '''\n",
        "Patient reported a stomachache\n",
        "\n",
        "When asked what they ate recently the patient reported that they ate nothing out of\n",
        "the ordinary They refused to provide any further information\n",
        "\n",
        "Tests for abdominal muscle injury negative Recommend monitoring and antacid'''\n"
      ],
      "execution_count": null,
      "outputs": []
    },
    {
      "cell_type": "markdown",
      "metadata": {
        "id": "ZAu0jIdtZX9L"
      },
      "source": [
        "Split it into its component words using the `.split()` method and use your `count_words` function to count the number of each word in the note. This can be done in one line:"
      ]
    },
    {
      "cell_type": "code",
      "metadata": {
        "id": "PHGBXG96Z--D"
      },
      "source": [],
      "execution_count": null,
      "outputs": []
    },
    {
      "cell_type": "markdown",
      "metadata": {
        "id": "aTzUCnDjagSK"
      },
      "source": [
        "In particular, have the computer report how many times the word `\"patient\"` appears by looking up the word in the dictionary:"
      ]
    },
    {
      "cell_type": "code",
      "metadata": {
        "id": "ijk2ld9gakOF"
      },
      "source": [],
      "execution_count": null,
      "outputs": []
    },
    {
      "cell_type": "markdown",
      "metadata": {
        "id": "eahi6E4paFiy"
      },
      "source": [
        "You may have noticed that your code reports \"Patient\" appeared once and \"patient\" also appeared once. This is because they are written differently; one has a capital letter and one does not. Fortunately, Python lets us standardize words into their lowercase forms using a string's `.lower()` method; for example:"
      ]
    },
    {
      "cell_type": "code",
      "metadata": {
        "id": "CfgUexTRYl1D",
        "colab": {
          "base_uri": "https://localhost:8080/",
          "height": 34
        },
        "outputId": "072cfde4-18a2-4d2a-ef13-bcb76c46f9b0"
      },
      "source": [
        "short_note.lower()"
      ],
      "execution_count": null,
      "outputs": [
        {
          "output_type": "execute_result",
          "data": {
            "text/plain": [
              "'patient reported a stomachache'"
            ]
          },
          "metadata": {
            "tags": []
          },
          "execution_count": 10
        }
      ]
    },
    {
      "cell_type": "markdown",
      "metadata": {
        "id": "nkqEBORfc_5G"
      },
      "source": [
        "Now, recount the words in `note` by lowercasing them first. How many times does `\"patient\"` appear now? What about `\"injury\"`?"
      ]
    },
    {
      "cell_type": "code",
      "metadata": {
        "id": "3XAAvgPyYmua"
      },
      "source": [],
      "execution_count": null,
      "outputs": []
    },
    {
      "cell_type": "code",
      "metadata": {
        "id": "Z7oELXcJeBJz"
      },
      "source": [],
      "execution_count": null,
      "outputs": []
    },
    {
      "cell_type": "markdown",
      "metadata": {
        "id": "xUWCrmDReB7y"
      },
      "source": [
        "Let's return to the patients dictionary from the first exercises:"
      ]
    },
    {
      "cell_type": "code",
      "metadata": {
        "id": "Chv5bHwWe8To"
      },
      "source": [
        "patients = {\n",
        "    521236: {\n",
        "        'last_name': 'Dawson',\n",
        "        'first_name': 'Louise',\n",
        "        'temperatures': [37.7, 37.2, 37.5, 37.3],\n",
        "        'height': 1.49\n",
        "    },\n",
        "    627256: {\n",
        "        'last_name': 'Valencia',\n",
        "        'first_name': 'Thelma',\n",
        "        'temperatures': [36.5, 36.9],\n",
        "        'height': 1.74\n",
        "    },\n",
        "    876516: {\n",
        "        'last_name': 'Ventura',\n",
        "        'first_name': 'William',\n",
        "        'temperatures': [36.6, 36.8, 37.8, 37.2],\n",
        "        'height': 1.70\n",
        "    },\n",
        "    161451: {\n",
        "        'last_name': 'Shackelford',\n",
        "        'first_name': 'Steven',\n",
        "        'temperatures': [37.9, 38.4, 38.4],\n",
        "        'height': 1.67\n",
        "    },\n",
        "    623724: {\n",
        "        'last_name': 'Rzeczycki',\n",
        "        'first_name': 'Kristi',\n",
        "        'temperatures': [37.9, 37.8],\n",
        "        'height': 1.65\n",
        "    }\n",
        "}"
      ],
      "execution_count": null,
      "outputs": []
    },
    {
      "cell_type": "markdown",
      "metadata": {
        "id": "D73-BF02iOdj"
      },
      "source": [
        "Loop over all the patients (you will want to use `.items()`), and print out the names and heights of all the patients with *more* than three temperature readings; for example, you'll have a line that reads:\n",
        "\n",
        "    William Ventura: 1.7m\n",
        "\n",
        "*Hint: remember that you can use an f-string to print out more than one piece of data on a line*"
      ]
    },
    {
      "cell_type": "code",
      "metadata": {
        "id": "X2KC9GuQiKrZ"
      },
      "source": [],
      "execution_count": null,
      "outputs": []
    }
  ]
}